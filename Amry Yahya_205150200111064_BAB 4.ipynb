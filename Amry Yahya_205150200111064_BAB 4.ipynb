{
  "cells": [
    {
      "cell_type": "markdown",
      "metadata": {
        "id": "-qDsm6BnME2X"
      },
      "source": [
        "# Praktikum Pengantar Pembelajaran Mesin\n",
        "\n",
        "\n",
        "---\n",
        "## Bab 4. Klasifikasi Naive Bayes\n"
      ]
    },
    {
      "cell_type": "markdown",
      "metadata": {
        "id": "IU7Po8aFphhf"
      },
      "source": [
        "Tuliskan Nama, NIM, dan kelas Anda:\n",
        "\n",
        "Nama  : Amry Yahya\n",
        "\n",
        "NIM   : 205150200111064\n",
        "\n",
        "Kelas : PPM TIF-A"
      ]
    },
    {
      "cell_type": "markdown",
      "metadata": {
        "id": "sQAGcnK3MOS7"
      },
      "source": [
        "### 1) Import Data\n",
        "\n",
        "Unduh dataset yang akan digunakan pada praktikum kali ini. Anda dapat menggunakan aplikasi wget untuk mendowload dataset dan menyimpannya dalam Google Colab. Jalankan cell di bawah ini untuk mengunduh dataset"
      ]
    },
    {
      "cell_type": "code",
      "execution_count": 283,
      "metadata": {
        "colab": {
          "base_uri": "https://localhost:8080/"
        },
        "id": "FpjqVlzBMNLd",
        "outputId": "a898958a-d320-467f-ed40-aa2a0c505dde"
      },
      "outputs": [],
      "source": [
        "# !wget https://gist.githubusercontent.com/netj/8836201/raw/6f9306ad21398ea43cba4f7d537619d0e07d5ae3/iris.csv"
      ]
    },
    {
      "cell_type": "markdown",
      "metadata": {
        "id": "SJy4t3lIOgGp"
      },
      "source": [
        "Setelah dataset berhasil diunduh, langkah berikutnya adalah membaca dataset dengan memanfaatkan fungsi **readcsv** dari library pandas. Lakukan pembacaan berkas csv ke dalam dataframe dengan nama **data** menggunakan fungsi **readcsv**. Jangan lupa untuk melakukan import library pandas terlebih dahulu\n"
      ]
    },
    {
      "cell_type": "code",
      "execution_count": 284,
      "metadata": {
        "id": "mdhbxk_2OzbB"
      },
      "outputs": [],
      "source": [
        "import pandas as pd\n",
        "import numpy as np\n",
        "data = pd.read_csv('horse_manual.csv')"
      ]
    },
    {
      "cell_type": "code",
      "execution_count": 285,
      "metadata": {},
      "outputs": [],
      "source": [
        "data=data.drop(['age','temp_of_extremities','peripheral_pulse'],axis=1)"
      ]
    },
    {
      "cell_type": "markdown",
      "metadata": {
        "id": "w6NfrIDTOK38"
      },
      "source": [
        "\n",
        "\n",
        "Cek isi dataset Anda dengan menggunakan perintah **head()**"
      ]
    },
    {
      "cell_type": "code",
      "execution_count": 286,
      "metadata": {
        "colab": {
          "base_uri": "https://localhost:8080/",
          "height": 206
        },
        "id": "Uaiaj796OFH3",
        "outputId": "41c7fca5-9807-4fa1-fd31-8c43da533af1"
      },
      "outputs": [
        {
          "data": {
            "text/html": [
              "<div>\n",
              "<style scoped>\n",
              "    .dataframe tbody tr th:only-of-type {\n",
              "        vertical-align: middle;\n",
              "    }\n",
              "\n",
              "    .dataframe tbody tr th {\n",
              "        vertical-align: top;\n",
              "    }\n",
              "\n",
              "    .dataframe thead th {\n",
              "        text-align: right;\n",
              "    }\n",
              "</style>\n",
              "<table border=\"1\" class=\"dataframe\">\n",
              "  <thead>\n",
              "    <tr style=\"text-align: right;\">\n",
              "      <th></th>\n",
              "      <th>rectal_temp</th>\n",
              "      <th>pulse</th>\n",
              "      <th>respiratory_rate</th>\n",
              "      <th>outcome</th>\n",
              "    </tr>\n",
              "  </thead>\n",
              "  <tbody>\n",
              "    <tr>\n",
              "      <th>0</th>\n",
              "      <td>0.574074</td>\n",
              "      <td>0.233766</td>\n",
              "      <td>0.227273</td>\n",
              "      <td>died</td>\n",
              "    </tr>\n",
              "    <tr>\n",
              "      <th>1</th>\n",
              "      <td>0.703704</td>\n",
              "      <td>0.376623</td>\n",
              "      <td>0.136364</td>\n",
              "      <td>euthanized</td>\n",
              "    </tr>\n",
              "    <tr>\n",
              "      <th>2</th>\n",
              "      <td>0.537037</td>\n",
              "      <td>0.064935</td>\n",
              "      <td>0.181818</td>\n",
              "      <td>lived</td>\n",
              "    </tr>\n",
              "    <tr>\n",
              "      <th>3</th>\n",
              "      <td>0.685185</td>\n",
              "      <td>0.870130</td>\n",
              "      <td>0.863636</td>\n",
              "      <td>died</td>\n",
              "    </tr>\n",
              "    <tr>\n",
              "      <th>4</th>\n",
              "      <td>0.351852</td>\n",
              "      <td>0.480519</td>\n",
              "      <td>0.306818</td>\n",
              "      <td>died</td>\n",
              "    </tr>\n",
              "  </tbody>\n",
              "</table>\n",
              "</div>"
            ],
            "text/plain": [
              "   rectal_temp     pulse  respiratory_rate     outcome\n",
              "0     0.574074  0.233766          0.227273        died\n",
              "1     0.703704  0.376623          0.136364  euthanized\n",
              "2     0.537037  0.064935          0.181818       lived\n",
              "3     0.685185  0.870130          0.863636        died\n",
              "4     0.351852  0.480519          0.306818        died"
            ]
          },
          "execution_count": 286,
          "metadata": {},
          "output_type": "execute_result"
        }
      ],
      "source": [
        "data.head()"
      ]
    },
    {
      "cell_type": "markdown",
      "metadata": {
        "id": "lfi1uHIxPdDe"
      },
      "source": [
        "## 2) Membagi data menjadi data latih dan data uji\n",
        "\n",
        "Metode pembelajaran mesin memerlukan dua jenis data :\n",
        "\n",
        "\n",
        "1.   Data latih : Digunakan untuk proses training metode klasifikasi\n",
        "2.   Data uji : Digunakan untuk proses evaluasi metode klasifikasi\n",
        "\n",
        "Data uji dan data latih perlu dibuat terpisah (mutualy exclusive) agar hasil evaluasi lebih akurat.\n",
        "\n",
        "Data uji dan data latih dapat dibuat dengan cara membagi dataset dengan rasio tertentu, misalnya 80% data latih dan 20% data uji.\n",
        "\n",
        "Library Scikit-learn memiliki fungsi [train_test_split](https://scikit-learn.org/stable/modules/generated/sklearn.model_selection.train_test_split.html) pada modul **model_selection** untuk membagi dataset menjadi data latih dan data uji. Bagilah dataset anda menjadi dua, yaitu **data_latih** dan **data_uji**.\n"
      ]
    },
    {
      "cell_type": "code",
      "execution_count": 287,
      "metadata": {
        "id": "jJjfXgfmPTlU"
      },
      "outputs": [],
      "source": [
        "data_latih = data[0:16]\n",
        "data_uji = data [16:20]"
      ]
    },
    {
      "cell_type": "markdown",
      "metadata": {
        "id": "tBhcsUDYfw2q"
      },
      "source": [
        "Tampilkan banyaknya data pada **data_latih** dan **data_uji**. Seharusnya **data_latih** terdiri dari 120 data, dan **data_uji** terdiri dari 30 data"
      ]
    },
    {
      "cell_type": "code",
      "execution_count": 288,
      "metadata": {
        "colab": {
          "base_uri": "https://localhost:8080/"
        },
        "id": "6OtySD4efmmQ",
        "outputId": "3eba1925-9a28-4a95-b1e7-384ef07e97ff"
      },
      "outputs": [
        {
          "name": "stdout",
          "output_type": "stream",
          "text": [
            "16\n",
            "4\n"
          ]
        }
      ],
      "source": [
        "print(data_latih.shape[0])\n",
        "print(data_uji.shape[0])"
      ]
    },
    {
      "cell_type": "markdown",
      "metadata": {
        "id": "DeU-FCyTkVKC"
      },
      "source": [
        "Pisahkan label/kategori dari data uji menjadi variabel tersendiri. Beri nama variabelnya  **label_uji**"
      ]
    },
    {
      "cell_type": "code",
      "execution_count": 289,
      "metadata": {
        "id": "e4vC_M0mkkl3"
      },
      "outputs": [],
      "source": [
        "label_uji = data_uji.pop('outcome')"
      ]
    },
    {
      "cell_type": "markdown",
      "metadata": {
        "id": "xm_dJNeMgl9u"
      },
      "source": [
        "## 3) Menghitung Prior\n",
        "\n",
        "Tahapan pertama pada algoritma Naive Bayes adalah perhitungan prior. Prior suatu kelas merupakan peluang awal munculnya kelas tersebut. Atau dengan kata lain, prior merupakan frekuensi relatif dari suatu kelas terhadap keseluruhan data. \n",
        "\n",
        "Buatlah fungsi bernama **hitung_prior** yang berfungsi menghitung nilai prior dari masing-masing kelas yang terdapat pada data latih. Fungsi ini menerima input berupa list kelas dari data latih."
      ]
    },
    {
      "cell_type": "code",
      "execution_count": 290,
      "metadata": {
        "id": "QNEYOTLsfqld"
      },
      "outputs": [],
      "source": [
        "from collections import Counter\n",
        "def hitung_prior(list_kelas):\n",
        "  n_data = len(list_kelas)\n",
        "  prior = Counter(list_kelas)\n",
        "  for key in prior.keys():\n",
        "    prior[key] = prior[key]/n_data\n",
        "  return prior"
      ]
    },
    {
      "cell_type": "markdown",
      "metadata": {
        "id": "KaOXTHEmuNcL"
      },
      "source": [
        "Ujilah fungsi **hitung_prior** menggunakan kelas dari variabel **data_latih**. Amati hasilnya"
      ]
    },
    {
      "cell_type": "code",
      "execution_count": 291,
      "metadata": {
        "colab": {
          "base_uri": "https://localhost:8080/"
        },
        "id": "Hxfrr832h61_",
        "outputId": "12e6fc85-46d0-4e68-fa62-e7ffaa2640a2"
      },
      "outputs": [
        {
          "name": "stdout",
          "output_type": "stream",
          "text": [
            "Counter({'lived': 0.5, 'died': 0.375, 'euthanized': 0.125})\n"
          ]
        }
      ],
      "source": [
        "prior = hitung_prior(data_latih['outcome'])\n",
        "print(prior)"
      ]
    },
    {
      "cell_type": "markdown",
      "metadata": {
        "id": "46FZOwFIlkM_"
      },
      "source": [
        "## 4) Menghitung *likelihood*"
      ]
    },
    {
      "cell_type": "markdown",
      "metadata": {
        "id": "4wQfBDujvR_Z"
      },
      "source": [
        "Praktikum kali ini mengimplementasikan metode Naive Bayes menggunakan datset iris. Semua fitur pada dataset iris memiliki tipe numerik. Dengan demikian, perhitungan *likelihood* dilakukan menggunakan Gaussian Model.\n",
        "\n",
        "Tahapan yang perlu dilakukan sebelum perhitungan *likelihood* adalah menghitung rata-rata dan deviasi standar masing-masing fitur per kelas. Buatlah fungsi **hitung_rata2_std_kelas** yang berfungsi menghitung rata-rata dan standar deviasi per fitur dan kelas"
      ]
    },
    {
      "cell_type": "code",
      "execution_count": 292,
      "metadata": {
        "id": "qFB6pLbeikcG"
      },
      "outputs": [],
      "source": [
        "def hitung_rata2_std_kelas(input_data):\n",
        "  list_columns = input_data.columns[:-1]\n",
        "  class_columns_name = input_data.columns[-1]\n",
        "  list_class = set(input_data[class_columns_name])\n",
        "  rata2 = {}\n",
        "  std = {}\n",
        "  for column in list_columns:\n",
        "    for a_class in list_class:\n",
        "      rata2[(a_class, column)] = input_data.loc[input_data[class_columns_name] == a_class][column].mean()\n",
        "      std[(a_class, column)] = input_data.loc[input_data[class_columns_name] == a_class][column].std()\n",
        "  return (rata2, std)"
      ]
    },
    {
      "cell_type": "markdown",
      "metadata": {
        "id": "mou0Bi1cyswK"
      },
      "source": [
        "Buatlah fungsi **hitung_likelihood_gaussian** yang bertujuan menghitung nilai likelihood suatu nilai terhadap rata-rata dan deviasi standar tertentu."
      ]
    },
    {
      "cell_type": "code",
      "execution_count": 293,
      "metadata": {
        "id": "fzvwAIBh8g2e"
      },
      "outputs": [],
      "source": [
        "import math\n",
        "def hitung_likelihood_gaussian(data, rata2, std):\n",
        "  ans = (1/math.sqrt(2*math.pi*(std**2))) * math.exp((-1*((data-rata2)**2))/(2*(std**2)))\n",
        "  return ans"
      ]
    },
    {
      "cell_type": "markdown",
      "metadata": {
        "id": "oQL9TuvR0ING"
      },
      "source": [
        "## 5) Proses *training*\n",
        "Proses training pada Naive Bayes dengan model Gaussian dilakukan untuk menghitung prior serta  rata-rata dan deviasi standar pada masing-msaing fitur dan kelas. "
      ]
    },
    {
      "cell_type": "code",
      "execution_count": 294,
      "metadata": {
        "id": "Oi9yBYOQE2It"
      },
      "outputs": [],
      "source": [
        "def training_naive_bayes_gaussian(data_latih):\n",
        "  class_column_name = data_latih.columns[-1]\n",
        "  prior = hitung_prior(data_latih[class_column_name])\n",
        "  rata2, std = hitung_rata2_std_kelas(data_latih)\n",
        "  list_class = set(data_latih[class_column_name])\n",
        "  list_columns = data_latih.columns[:-1]\n",
        "  model = {}\n",
        "  model['prior'] = prior\n",
        "  model['rata2'] = rata2\n",
        "  model['std'] = std\n",
        "  model['list_class'] = list_class\n",
        "  model['list_columns'] = list_columns\n",
        "  return model"
      ]
    },
    {
      "cell_type": "markdown",
      "metadata": {
        "id": "SdOp5WU61OWA"
      },
      "source": [
        "Lakukanlah proses training dan simpan hasil training pada variabel **model**"
      ]
    },
    {
      "cell_type": "code",
      "execution_count": 295,
      "metadata": {
        "id": "QJtz-ZubF6C_"
      },
      "outputs": [],
      "source": [
        "model = training_naive_bayes_gaussian(data_latih)"
      ]
    },
    {
      "cell_type": "markdown",
      "metadata": {
        "id": "M6UR7tpm1YQ_"
      },
      "source": [
        "## 6) Proses *testing*\n",
        "Proses testing dilakukan dengan menghitung nilai posterior dari data uji berdasarkan nilai model yang diperoleh saat training. Nilai posterior diperoleh dari perkalian prior dengan *likelihood* masing-masing fiturnya. Setelah itu, penentuan kelas data uji dilakukan berdasarkan nilai posterior terbesar"
      ]
    },
    {
      "cell_type": "code",
      "execution_count": 296,
      "metadata": {
        "id": "GFrDgAtU7umG"
      },
      "outputs": [],
      "source": [
        "def testing_naive_bayes_gaussian(model, data_uji):\n",
        "  prior = model['prior']\n",
        "  rata2 = model['rata2']\n",
        "  std = model['std']\n",
        "  list_class = model['list_class']\n",
        "  list_columns = model['list_columns']\n",
        "  posterior = dict.fromkeys(list_class, 1)\n",
        "  for a_class in list_class:\n",
        "    print(a_class)\n",
        "    for column in list_columns:\n",
        "      likelihood = hitung_likelihood_gaussian(data_uji[column], rata2[(a_class, column)], std[(a_class, column)])\n",
        "      posterior[a_class] = posterior[a_class] * likelihood\n",
        "      print(column,'=',likelihood)\n",
        "  kelas_uji = max(posterior, key=posterior.get)\n",
        "  return kelas_uji"
      ]
    },
    {
      "cell_type": "markdown",
      "metadata": {
        "id": "v4gkpgl02hHN"
      },
      "source": [
        "Ujilah fungsi **testing_naive_bayes_gaussian** menggunakan data uji pertama. Bandingkan hasilnya dengan nilai label sebenarnya."
      ]
    },
    {
      "cell_type": "code",
      "execution_count": 308,
      "metadata": {
        "colab": {
          "base_uri": "https://localhost:8080/",
          "height": 36
        },
        "id": "MQaav7-4BOw0",
        "outputId": "97573009-e385-4b2e-8e51-a1de0cd7d53d"
      },
      "outputs": [
        {
          "name": "stdout",
          "output_type": "stream",
          "text": [
            "lived\n",
            "rectal_temp = 4.113008659584946\n",
            "pulse = 0.0032956451002718206\n",
            "respiratory_rate = 1.9241380348346662\n",
            "euthanized\n",
            "rectal_temp = 2.2814693090532145\n",
            "pulse = 7.914941693565258e-13\n",
            "respiratory_rate = 2.4166520920724723\n",
            "died\n",
            "rectal_temp = 3.334353351448438\n",
            "pulse = 1.1677025782314217\n",
            "respiratory_rate = 1.5538571652824373\n"
          ]
        },
        {
          "data": {
            "text/plain": [
              "'died'"
            ]
          },
          "execution_count": 308,
          "metadata": {},
          "output_type": "execute_result"
        }
      ],
      "source": [
        "testing_naive_bayes_gaussian(model, data_uji.iloc[0])"
      ]
    },
    {
      "cell_type": "code",
      "execution_count": 298,
      "metadata": {
        "colab": {
          "base_uri": "https://localhost:8080/",
          "height": 36
        },
        "id": "mwiVaVkHOW7y",
        "outputId": "d4017160-4d5e-4571-f802-9e55083a694c"
      },
      "outputs": [
        {
          "data": {
            "text/plain": [
              "'died'"
            ]
          },
          "execution_count": 298,
          "metadata": {},
          "output_type": "execute_result"
        }
      ],
      "source": [
        "label_uji.iloc[0]"
      ]
    },
    {
      "cell_type": "markdown",
      "metadata": {
        "id": "njN0S0TD254D"
      },
      "source": [
        "Lakukan pengujian untuk semua data uji. Selanjutnya bandingkan dengan label sebenarnya untuk menghitung berapa banyak data uji yang berhasil diprediksi dengan benar"
      ]
    },
    {
      "cell_type": "code",
      "execution_count": 299,
      "metadata": {
        "colab": {
          "base_uri": "https://localhost:8080/"
        },
        "id": "coYepsufHTeW",
        "outputId": "c4548739-28b3-4285-cefd-18bde13b4932"
      },
      "outputs": [
        {
          "name": "stdout",
          "output_type": "stream",
          "text": [
            "lived\n",
            "rectal_temp = 4.113008659584946\n",
            "pulse = 0.0032956451002718206\n",
            "respiratory_rate = 1.9241380348346662\n",
            "euthanized\n",
            "rectal_temp = 2.2814693090532145\n",
            "pulse = 7.914941693565258e-13\n",
            "respiratory_rate = 2.4166520920724723\n",
            "died\n",
            "rectal_temp = 3.334353351448438\n",
            "pulse = 1.1677025782314217\n",
            "respiratory_rate = 1.5538571652824373\n",
            "lived\n",
            "rectal_temp = 1.852715241046663\n",
            "pulse = 2.5215959554177427\n",
            "respiratory_rate = 2.674596507982576\n",
            "euthanized\n",
            "rectal_temp = 1.0124854692661212\n",
            "pulse = 1.743381924812041e-08\n",
            "respiratory_rate = 2.915038855784313\n",
            "died\n",
            "rectal_temp = 2.1262820737769728\n",
            "pulse = 0.6927022668779322\n",
            "respiratory_rate = 1.119427252132961\n",
            "lived\n",
            "rectal_temp = 2.315803465699878\n",
            "pulse = 3.4646243261088205\n",
            "respiratory_rate = 2.5451689509832103\n",
            "euthanized\n",
            "rectal_temp = 1.1924826088196447\n",
            "pulse = 0.020965985717144472\n",
            "respiratory_rate = 2.562483484354294\n",
            "died\n",
            "rectal_temp = 2.436906527451559\n",
            "pulse = 1.114739823687847\n",
            "respiratory_rate = 0.9824725633432053\n",
            "lived\n",
            "rectal_temp = 0.2503725656279097\n",
            "pulse = 0.08825154218637289\n",
            "respiratory_rate = 2.0424935942222318\n",
            "euthanized\n",
            "rectal_temp = 1.6855178784319547\n",
            "pulse = 0.00028094436931697206\n",
            "respiratory_rate = 2.5624834843542934\n",
            "died\n",
            "rectal_temp = 0.45164514249507937\n",
            "pulse = 1.5561961471211863\n",
            "respiratory_rate = 1.5300090690278172\n",
            "0.75\n"
          ]
        }
      ],
      "source": [
        "yang_benar = 0\n",
        "for i in range(data_uji.shape[0]):\n",
        "  if (label_uji.iloc[i] == testing_naive_bayes_gaussian(model, data_uji.iloc[i])):\n",
        "    yang_benar = yang_benar + 1\n",
        "\n",
        "print(yang_benar/data_uji.shape[0])"
      ]
    },
    {
      "cell_type": "markdown",
      "metadata": {
        "id": "ZiDmUxVBuo42"
      },
      "source": [
        "## TUGAS\n",
        "Pada tugas kali ini Anda akan menggunakan dataset **[Car Evaluation Dataset](https://archive.ics.uci.edu/ml/datasets/Car+Evaluation)** yang telah dimodifikasi. Fitur-fitur yang ada bertipe kategori sebagai berikut:\n",
        "1. **buying**. Merupakan harga beli mobil. Nilai : vhigh, high, med, low\n",
        "2. **maint**. Menandakan biaya perawatan mobil. Nilai: vhigh, high, med, low\n",
        "3. **lug_boot**. Menandakan ukuran bagasi. Nilai: small, med, big\n",
        "4. **safety**. Menandakan skor keamanan mobil. Nilai:  low, med, high\n",
        "5. **class**. Merupakan kelas data. Nilai: unacc, acc, good, vgood\n",
        "\n",
        "Download dataset dari https://dataset-ppm.s3.amazonaws.com/car_sample.csv dan letakkan dalam variabel **data_tugas**."
      ]
    },
    {
      "cell_type": "code",
      "execution_count": 300,
      "metadata": {
        "colab": {
          "base_uri": "https://localhost:8080/"
        },
        "id": "taf0UIWICpVB",
        "outputId": "6e109b26-6237-4b1f-ed06-eaa1ddddb667"
      },
      "outputs": [],
      "source": [
        "# !wget https://gist.githubusercontent.com/Arceister/a890983a3c3f151eebf5702d870d93a7/raw/a4ed5bf0d779a8c8b8cda7145c44e1a36fe8f7ca/car_evaluation.csv"
      ]
    },
    {
      "cell_type": "code",
      "execution_count": 301,
      "metadata": {
        "colab": {
          "base_uri": "https://localhost:8080/",
          "height": 206
        },
        "id": "s0RmCUM02o7i",
        "outputId": "4ea5aa15-7e02-4435-ea46-3a76b3dbe823"
      },
      "outputs": [
        {
          "ename": "FileNotFoundError",
          "evalue": "[Errno 2] No such file or directory: 'car_evaluation.csv'",
          "output_type": "error",
          "traceback": [
            "\u001b[1;31m---------------------------------------------------------------------------\u001b[0m",
            "\u001b[1;31mFileNotFoundError\u001b[0m                         Traceback (most recent call last)",
            "\u001b[1;32md:\\Documents\\Teknik Informatika\\Semester 4\\PPM\\Project Akhir\\dataset\\Amry Yahya_205150200111064_BAB 4.ipynb Cell 38'\u001b[0m in \u001b[0;36m<cell line: 2>\u001b[1;34m()\u001b[0m\n\u001b[0;32m      <a href='vscode-notebook-cell:/d%3A/Documents/Teknik%20Informatika/Semester%204/PPM/Project%20Akhir/dataset/Amry%20Yahya_205150200111064_BAB%204.ipynb#ch0000036?line=0'>1</a>\u001b[0m \u001b[39mimport\u001b[39;00m \u001b[39mpandas\u001b[39;00m \u001b[39mas\u001b[39;00m \u001b[39mpd\u001b[39;00m\n\u001b[1;32m----> <a href='vscode-notebook-cell:/d%3A/Documents/Teknik%20Informatika/Semester%204/PPM/Project%20Akhir/dataset/Amry%20Yahya_205150200111064_BAB%204.ipynb#ch0000036?line=1'>2</a>\u001b[0m data \u001b[39m=\u001b[39m pd\u001b[39m.\u001b[39;49mread_csv(\u001b[39m'\u001b[39;49m\u001b[39mcar_evaluation.csv\u001b[39;49m\u001b[39m'\u001b[39;49m)\n\u001b[0;32m      <a href='vscode-notebook-cell:/d%3A/Documents/Teknik%20Informatika/Semester%204/PPM/Project%20Akhir/dataset/Amry%20Yahya_205150200111064_BAB%204.ipynb#ch0000036?line=2'>3</a>\u001b[0m data\u001b[39m.\u001b[39mhead()\n",
            "File \u001b[1;32m~\\AppData\\Local\\Programs\\Python\\Python310\\lib\\site-packages\\pandas\\util\\_decorators.py:311\u001b[0m, in \u001b[0;36mdeprecate_nonkeyword_arguments.<locals>.decorate.<locals>.wrapper\u001b[1;34m(*args, **kwargs)\u001b[0m\n\u001b[0;32m    <a href='file:///c%3A/Users/amryyahya/AppData/Local/Programs/Python/Python310/lib/site-packages/pandas/util/_decorators.py?line=304'>305</a>\u001b[0m \u001b[39mif\u001b[39;00m \u001b[39mlen\u001b[39m(args) \u001b[39m>\u001b[39m num_allow_args:\n\u001b[0;32m    <a href='file:///c%3A/Users/amryyahya/AppData/Local/Programs/Python/Python310/lib/site-packages/pandas/util/_decorators.py?line=305'>306</a>\u001b[0m     warnings\u001b[39m.\u001b[39mwarn(\n\u001b[0;32m    <a href='file:///c%3A/Users/amryyahya/AppData/Local/Programs/Python/Python310/lib/site-packages/pandas/util/_decorators.py?line=306'>307</a>\u001b[0m         msg\u001b[39m.\u001b[39mformat(arguments\u001b[39m=\u001b[39marguments),\n\u001b[0;32m    <a href='file:///c%3A/Users/amryyahya/AppData/Local/Programs/Python/Python310/lib/site-packages/pandas/util/_decorators.py?line=307'>308</a>\u001b[0m         \u001b[39mFutureWarning\u001b[39;00m,\n\u001b[0;32m    <a href='file:///c%3A/Users/amryyahya/AppData/Local/Programs/Python/Python310/lib/site-packages/pandas/util/_decorators.py?line=308'>309</a>\u001b[0m         stacklevel\u001b[39m=\u001b[39mstacklevel,\n\u001b[0;32m    <a href='file:///c%3A/Users/amryyahya/AppData/Local/Programs/Python/Python310/lib/site-packages/pandas/util/_decorators.py?line=309'>310</a>\u001b[0m     )\n\u001b[1;32m--> <a href='file:///c%3A/Users/amryyahya/AppData/Local/Programs/Python/Python310/lib/site-packages/pandas/util/_decorators.py?line=310'>311</a>\u001b[0m \u001b[39mreturn\u001b[39;00m func(\u001b[39m*\u001b[39margs, \u001b[39m*\u001b[39m\u001b[39m*\u001b[39mkwargs)\n",
            "File \u001b[1;32m~\\AppData\\Local\\Programs\\Python\\Python310\\lib\\site-packages\\pandas\\io\\parsers\\readers.py:680\u001b[0m, in \u001b[0;36mread_csv\u001b[1;34m(filepath_or_buffer, sep, delimiter, header, names, index_col, usecols, squeeze, prefix, mangle_dupe_cols, dtype, engine, converters, true_values, false_values, skipinitialspace, skiprows, skipfooter, nrows, na_values, keep_default_na, na_filter, verbose, skip_blank_lines, parse_dates, infer_datetime_format, keep_date_col, date_parser, dayfirst, cache_dates, iterator, chunksize, compression, thousands, decimal, lineterminator, quotechar, quoting, doublequote, escapechar, comment, encoding, encoding_errors, dialect, error_bad_lines, warn_bad_lines, on_bad_lines, delim_whitespace, low_memory, memory_map, float_precision, storage_options)\u001b[0m\n\u001b[0;32m    <a href='file:///c%3A/Users/amryyahya/AppData/Local/Programs/Python/Python310/lib/site-packages/pandas/io/parsers/readers.py?line=664'>665</a>\u001b[0m kwds_defaults \u001b[39m=\u001b[39m _refine_defaults_read(\n\u001b[0;32m    <a href='file:///c%3A/Users/amryyahya/AppData/Local/Programs/Python/Python310/lib/site-packages/pandas/io/parsers/readers.py?line=665'>666</a>\u001b[0m     dialect,\n\u001b[0;32m    <a href='file:///c%3A/Users/amryyahya/AppData/Local/Programs/Python/Python310/lib/site-packages/pandas/io/parsers/readers.py?line=666'>667</a>\u001b[0m     delimiter,\n\u001b[1;32m   (...)\u001b[0m\n\u001b[0;32m    <a href='file:///c%3A/Users/amryyahya/AppData/Local/Programs/Python/Python310/lib/site-packages/pandas/io/parsers/readers.py?line=675'>676</a>\u001b[0m     defaults\u001b[39m=\u001b[39m{\u001b[39m\"\u001b[39m\u001b[39mdelimiter\u001b[39m\u001b[39m\"\u001b[39m: \u001b[39m\"\u001b[39m\u001b[39m,\u001b[39m\u001b[39m\"\u001b[39m},\n\u001b[0;32m    <a href='file:///c%3A/Users/amryyahya/AppData/Local/Programs/Python/Python310/lib/site-packages/pandas/io/parsers/readers.py?line=676'>677</a>\u001b[0m )\n\u001b[0;32m    <a href='file:///c%3A/Users/amryyahya/AppData/Local/Programs/Python/Python310/lib/site-packages/pandas/io/parsers/readers.py?line=677'>678</a>\u001b[0m kwds\u001b[39m.\u001b[39mupdate(kwds_defaults)\n\u001b[1;32m--> <a href='file:///c%3A/Users/amryyahya/AppData/Local/Programs/Python/Python310/lib/site-packages/pandas/io/parsers/readers.py?line=679'>680</a>\u001b[0m \u001b[39mreturn\u001b[39;00m _read(filepath_or_buffer, kwds)\n",
            "File \u001b[1;32m~\\AppData\\Local\\Programs\\Python\\Python310\\lib\\site-packages\\pandas\\io\\parsers\\readers.py:575\u001b[0m, in \u001b[0;36m_read\u001b[1;34m(filepath_or_buffer, kwds)\u001b[0m\n\u001b[0;32m    <a href='file:///c%3A/Users/amryyahya/AppData/Local/Programs/Python/Python310/lib/site-packages/pandas/io/parsers/readers.py?line=571'>572</a>\u001b[0m _validate_names(kwds\u001b[39m.\u001b[39mget(\u001b[39m\"\u001b[39m\u001b[39mnames\u001b[39m\u001b[39m\"\u001b[39m, \u001b[39mNone\u001b[39;00m))\n\u001b[0;32m    <a href='file:///c%3A/Users/amryyahya/AppData/Local/Programs/Python/Python310/lib/site-packages/pandas/io/parsers/readers.py?line=573'>574</a>\u001b[0m \u001b[39m# Create the parser.\u001b[39;00m\n\u001b[1;32m--> <a href='file:///c%3A/Users/amryyahya/AppData/Local/Programs/Python/Python310/lib/site-packages/pandas/io/parsers/readers.py?line=574'>575</a>\u001b[0m parser \u001b[39m=\u001b[39m TextFileReader(filepath_or_buffer, \u001b[39m*\u001b[39m\u001b[39m*\u001b[39mkwds)\n\u001b[0;32m    <a href='file:///c%3A/Users/amryyahya/AppData/Local/Programs/Python/Python310/lib/site-packages/pandas/io/parsers/readers.py?line=576'>577</a>\u001b[0m \u001b[39mif\u001b[39;00m chunksize \u001b[39mor\u001b[39;00m iterator:\n\u001b[0;32m    <a href='file:///c%3A/Users/amryyahya/AppData/Local/Programs/Python/Python310/lib/site-packages/pandas/io/parsers/readers.py?line=577'>578</a>\u001b[0m     \u001b[39mreturn\u001b[39;00m parser\n",
            "File \u001b[1;32m~\\AppData\\Local\\Programs\\Python\\Python310\\lib\\site-packages\\pandas\\io\\parsers\\readers.py:933\u001b[0m, in \u001b[0;36mTextFileReader.__init__\u001b[1;34m(self, f, engine, **kwds)\u001b[0m\n\u001b[0;32m    <a href='file:///c%3A/Users/amryyahya/AppData/Local/Programs/Python/Python310/lib/site-packages/pandas/io/parsers/readers.py?line=929'>930</a>\u001b[0m     \u001b[39mself\u001b[39m\u001b[39m.\u001b[39moptions[\u001b[39m\"\u001b[39m\u001b[39mhas_index_names\u001b[39m\u001b[39m\"\u001b[39m] \u001b[39m=\u001b[39m kwds[\u001b[39m\"\u001b[39m\u001b[39mhas_index_names\u001b[39m\u001b[39m\"\u001b[39m]\n\u001b[0;32m    <a href='file:///c%3A/Users/amryyahya/AppData/Local/Programs/Python/Python310/lib/site-packages/pandas/io/parsers/readers.py?line=931'>932</a>\u001b[0m \u001b[39mself\u001b[39m\u001b[39m.\u001b[39mhandles: IOHandles \u001b[39m|\u001b[39m \u001b[39mNone\u001b[39;00m \u001b[39m=\u001b[39m \u001b[39mNone\u001b[39;00m\n\u001b[1;32m--> <a href='file:///c%3A/Users/amryyahya/AppData/Local/Programs/Python/Python310/lib/site-packages/pandas/io/parsers/readers.py?line=932'>933</a>\u001b[0m \u001b[39mself\u001b[39m\u001b[39m.\u001b[39m_engine \u001b[39m=\u001b[39m \u001b[39mself\u001b[39;49m\u001b[39m.\u001b[39;49m_make_engine(f, \u001b[39mself\u001b[39;49m\u001b[39m.\u001b[39;49mengine)\n",
            "File \u001b[1;32m~\\AppData\\Local\\Programs\\Python\\Python310\\lib\\site-packages\\pandas\\io\\parsers\\readers.py:1217\u001b[0m, in \u001b[0;36mTextFileReader._make_engine\u001b[1;34m(self, f, engine)\u001b[0m\n\u001b[0;32m   <a href='file:///c%3A/Users/amryyahya/AppData/Local/Programs/Python/Python310/lib/site-packages/pandas/io/parsers/readers.py?line=1212'>1213</a>\u001b[0m     mode \u001b[39m=\u001b[39m \u001b[39m\"\u001b[39m\u001b[39mrb\u001b[39m\u001b[39m\"\u001b[39m\n\u001b[0;32m   <a href='file:///c%3A/Users/amryyahya/AppData/Local/Programs/Python/Python310/lib/site-packages/pandas/io/parsers/readers.py?line=1213'>1214</a>\u001b[0m \u001b[39m# error: No overload variant of \"get_handle\" matches argument types\u001b[39;00m\n\u001b[0;32m   <a href='file:///c%3A/Users/amryyahya/AppData/Local/Programs/Python/Python310/lib/site-packages/pandas/io/parsers/readers.py?line=1214'>1215</a>\u001b[0m \u001b[39m# \"Union[str, PathLike[str], ReadCsvBuffer[bytes], ReadCsvBuffer[str]]\"\u001b[39;00m\n\u001b[0;32m   <a href='file:///c%3A/Users/amryyahya/AppData/Local/Programs/Python/Python310/lib/site-packages/pandas/io/parsers/readers.py?line=1215'>1216</a>\u001b[0m \u001b[39m# , \"str\", \"bool\", \"Any\", \"Any\", \"Any\", \"Any\", \"Any\"\u001b[39;00m\n\u001b[1;32m-> <a href='file:///c%3A/Users/amryyahya/AppData/Local/Programs/Python/Python310/lib/site-packages/pandas/io/parsers/readers.py?line=1216'>1217</a>\u001b[0m \u001b[39mself\u001b[39m\u001b[39m.\u001b[39mhandles \u001b[39m=\u001b[39m get_handle(  \u001b[39m# type: ignore[call-overload]\u001b[39;49;00m\n\u001b[0;32m   <a href='file:///c%3A/Users/amryyahya/AppData/Local/Programs/Python/Python310/lib/site-packages/pandas/io/parsers/readers.py?line=1217'>1218</a>\u001b[0m     f,\n\u001b[0;32m   <a href='file:///c%3A/Users/amryyahya/AppData/Local/Programs/Python/Python310/lib/site-packages/pandas/io/parsers/readers.py?line=1218'>1219</a>\u001b[0m     mode,\n\u001b[0;32m   <a href='file:///c%3A/Users/amryyahya/AppData/Local/Programs/Python/Python310/lib/site-packages/pandas/io/parsers/readers.py?line=1219'>1220</a>\u001b[0m     encoding\u001b[39m=\u001b[39;49m\u001b[39mself\u001b[39;49m\u001b[39m.\u001b[39;49moptions\u001b[39m.\u001b[39;49mget(\u001b[39m\"\u001b[39;49m\u001b[39mencoding\u001b[39;49m\u001b[39m\"\u001b[39;49m, \u001b[39mNone\u001b[39;49;00m),\n\u001b[0;32m   <a href='file:///c%3A/Users/amryyahya/AppData/Local/Programs/Python/Python310/lib/site-packages/pandas/io/parsers/readers.py?line=1220'>1221</a>\u001b[0m     compression\u001b[39m=\u001b[39;49m\u001b[39mself\u001b[39;49m\u001b[39m.\u001b[39;49moptions\u001b[39m.\u001b[39;49mget(\u001b[39m\"\u001b[39;49m\u001b[39mcompression\u001b[39;49m\u001b[39m\"\u001b[39;49m, \u001b[39mNone\u001b[39;49;00m),\n\u001b[0;32m   <a href='file:///c%3A/Users/amryyahya/AppData/Local/Programs/Python/Python310/lib/site-packages/pandas/io/parsers/readers.py?line=1221'>1222</a>\u001b[0m     memory_map\u001b[39m=\u001b[39;49m\u001b[39mself\u001b[39;49m\u001b[39m.\u001b[39;49moptions\u001b[39m.\u001b[39;49mget(\u001b[39m\"\u001b[39;49m\u001b[39mmemory_map\u001b[39;49m\u001b[39m\"\u001b[39;49m, \u001b[39mFalse\u001b[39;49;00m),\n\u001b[0;32m   <a href='file:///c%3A/Users/amryyahya/AppData/Local/Programs/Python/Python310/lib/site-packages/pandas/io/parsers/readers.py?line=1222'>1223</a>\u001b[0m     is_text\u001b[39m=\u001b[39;49mis_text,\n\u001b[0;32m   <a href='file:///c%3A/Users/amryyahya/AppData/Local/Programs/Python/Python310/lib/site-packages/pandas/io/parsers/readers.py?line=1223'>1224</a>\u001b[0m     errors\u001b[39m=\u001b[39;49m\u001b[39mself\u001b[39;49m\u001b[39m.\u001b[39;49moptions\u001b[39m.\u001b[39;49mget(\u001b[39m\"\u001b[39;49m\u001b[39mencoding_errors\u001b[39;49m\u001b[39m\"\u001b[39;49m, \u001b[39m\"\u001b[39;49m\u001b[39mstrict\u001b[39;49m\u001b[39m\"\u001b[39;49m),\n\u001b[0;32m   <a href='file:///c%3A/Users/amryyahya/AppData/Local/Programs/Python/Python310/lib/site-packages/pandas/io/parsers/readers.py?line=1224'>1225</a>\u001b[0m     storage_options\u001b[39m=\u001b[39;49m\u001b[39mself\u001b[39;49m\u001b[39m.\u001b[39;49moptions\u001b[39m.\u001b[39;49mget(\u001b[39m\"\u001b[39;49m\u001b[39mstorage_options\u001b[39;49m\u001b[39m\"\u001b[39;49m, \u001b[39mNone\u001b[39;49;00m),\n\u001b[0;32m   <a href='file:///c%3A/Users/amryyahya/AppData/Local/Programs/Python/Python310/lib/site-packages/pandas/io/parsers/readers.py?line=1225'>1226</a>\u001b[0m )\n\u001b[0;32m   <a href='file:///c%3A/Users/amryyahya/AppData/Local/Programs/Python/Python310/lib/site-packages/pandas/io/parsers/readers.py?line=1226'>1227</a>\u001b[0m \u001b[39massert\u001b[39;00m \u001b[39mself\u001b[39m\u001b[39m.\u001b[39mhandles \u001b[39mis\u001b[39;00m \u001b[39mnot\u001b[39;00m \u001b[39mNone\u001b[39;00m\n\u001b[0;32m   <a href='file:///c%3A/Users/amryyahya/AppData/Local/Programs/Python/Python310/lib/site-packages/pandas/io/parsers/readers.py?line=1227'>1228</a>\u001b[0m f \u001b[39m=\u001b[39m \u001b[39mself\u001b[39m\u001b[39m.\u001b[39mhandles\u001b[39m.\u001b[39mhandle\n",
            "File \u001b[1;32m~\\AppData\\Local\\Programs\\Python\\Python310\\lib\\site-packages\\pandas\\io\\common.py:789\u001b[0m, in \u001b[0;36mget_handle\u001b[1;34m(path_or_buf, mode, encoding, compression, memory_map, is_text, errors, storage_options)\u001b[0m\n\u001b[0;32m    <a href='file:///c%3A/Users/amryyahya/AppData/Local/Programs/Python/Python310/lib/site-packages/pandas/io/common.py?line=783'>784</a>\u001b[0m \u001b[39melif\u001b[39;00m \u001b[39misinstance\u001b[39m(handle, \u001b[39mstr\u001b[39m):\n\u001b[0;32m    <a href='file:///c%3A/Users/amryyahya/AppData/Local/Programs/Python/Python310/lib/site-packages/pandas/io/common.py?line=784'>785</a>\u001b[0m     \u001b[39m# Check whether the filename is to be opened in binary mode.\u001b[39;00m\n\u001b[0;32m    <a href='file:///c%3A/Users/amryyahya/AppData/Local/Programs/Python/Python310/lib/site-packages/pandas/io/common.py?line=785'>786</a>\u001b[0m     \u001b[39m# Binary mode does not support 'encoding' and 'newline'.\u001b[39;00m\n\u001b[0;32m    <a href='file:///c%3A/Users/amryyahya/AppData/Local/Programs/Python/Python310/lib/site-packages/pandas/io/common.py?line=786'>787</a>\u001b[0m     \u001b[39mif\u001b[39;00m ioargs\u001b[39m.\u001b[39mencoding \u001b[39mand\u001b[39;00m \u001b[39m\"\u001b[39m\u001b[39mb\u001b[39m\u001b[39m\"\u001b[39m \u001b[39mnot\u001b[39;00m \u001b[39min\u001b[39;00m ioargs\u001b[39m.\u001b[39mmode:\n\u001b[0;32m    <a href='file:///c%3A/Users/amryyahya/AppData/Local/Programs/Python/Python310/lib/site-packages/pandas/io/common.py?line=787'>788</a>\u001b[0m         \u001b[39m# Encoding\u001b[39;00m\n\u001b[1;32m--> <a href='file:///c%3A/Users/amryyahya/AppData/Local/Programs/Python/Python310/lib/site-packages/pandas/io/common.py?line=788'>789</a>\u001b[0m         handle \u001b[39m=\u001b[39m \u001b[39mopen\u001b[39;49m(\n\u001b[0;32m    <a href='file:///c%3A/Users/amryyahya/AppData/Local/Programs/Python/Python310/lib/site-packages/pandas/io/common.py?line=789'>790</a>\u001b[0m             handle,\n\u001b[0;32m    <a href='file:///c%3A/Users/amryyahya/AppData/Local/Programs/Python/Python310/lib/site-packages/pandas/io/common.py?line=790'>791</a>\u001b[0m             ioargs\u001b[39m.\u001b[39;49mmode,\n\u001b[0;32m    <a href='file:///c%3A/Users/amryyahya/AppData/Local/Programs/Python/Python310/lib/site-packages/pandas/io/common.py?line=791'>792</a>\u001b[0m             encoding\u001b[39m=\u001b[39;49mioargs\u001b[39m.\u001b[39;49mencoding,\n\u001b[0;32m    <a href='file:///c%3A/Users/amryyahya/AppData/Local/Programs/Python/Python310/lib/site-packages/pandas/io/common.py?line=792'>793</a>\u001b[0m             errors\u001b[39m=\u001b[39;49merrors,\n\u001b[0;32m    <a href='file:///c%3A/Users/amryyahya/AppData/Local/Programs/Python/Python310/lib/site-packages/pandas/io/common.py?line=793'>794</a>\u001b[0m             newline\u001b[39m=\u001b[39;49m\u001b[39m\"\u001b[39;49m\u001b[39m\"\u001b[39;49m,\n\u001b[0;32m    <a href='file:///c%3A/Users/amryyahya/AppData/Local/Programs/Python/Python310/lib/site-packages/pandas/io/common.py?line=794'>795</a>\u001b[0m         )\n\u001b[0;32m    <a href='file:///c%3A/Users/amryyahya/AppData/Local/Programs/Python/Python310/lib/site-packages/pandas/io/common.py?line=795'>796</a>\u001b[0m     \u001b[39melse\u001b[39;00m:\n\u001b[0;32m    <a href='file:///c%3A/Users/amryyahya/AppData/Local/Programs/Python/Python310/lib/site-packages/pandas/io/common.py?line=796'>797</a>\u001b[0m         \u001b[39m# Binary mode\u001b[39;00m\n\u001b[0;32m    <a href='file:///c%3A/Users/amryyahya/AppData/Local/Programs/Python/Python310/lib/site-packages/pandas/io/common.py?line=797'>798</a>\u001b[0m         handle \u001b[39m=\u001b[39m \u001b[39mopen\u001b[39m(handle, ioargs\u001b[39m.\u001b[39mmode)\n",
            "\u001b[1;31mFileNotFoundError\u001b[0m: [Errno 2] No such file or directory: 'car_evaluation.csv'"
          ]
        }
      ],
      "source": [
        "import pandas as pd\n",
        "data = pd.read_csv('car_evaluation.csv')\n",
        "data.head()"
      ]
    },
    {
      "cell_type": "markdown",
      "metadata": {
        "id": "TPT18UxqDEmj"
      },
      "source": [
        "Bagi data menjadi data latih dan uji dengan nama **tugas_latih** dan **tugas_uji** dengan rasio 70%:30%"
      ]
    },
    {
      "cell_type": "code",
      "execution_count": null,
      "metadata": {
        "colab": {
          "base_uri": "https://localhost:8080/"
        },
        "id": "U64ysR2GDCIW",
        "outputId": "a2db40d6-d1f4-43ba-b039-9ffcc3bd75c1"
      },
      "outputs": [
        {
          "name": "stdout",
          "output_type": "stream",
          "text": [
            "1209\n",
            "519\n"
          ]
        }
      ],
      "source": [
        "from sklearn.model_selection import train_test_split\n",
        "tugas_latih, tugas_uji = train_test_split(data, test_size = 0.3)\n",
        "\n",
        "print(tugas_latih.shape[0])\n",
        "print(tugas_uji.shape[0])"
      ]
    },
    {
      "cell_type": "markdown",
      "metadata": {
        "id": "6Gly3yA3DaMl"
      },
      "source": [
        "Pisahkan label/kategori dari data uji menjadi variabel tersendiri. Beri nama variabelnya **tugas_label_uji**"
      ]
    },
    {
      "cell_type": "code",
      "execution_count": null,
      "metadata": {
        "id": "B--8aoLWDYxI"
      },
      "outputs": [],
      "source": [
        "tugas_label_uji = tugas_uji.pop('class')"
      ]
    },
    {
      "cell_type": "markdown",
      "metadata": {
        "id": "Co1DltS5ezOo"
      },
      "source": [
        "Hitunglah nilai prior dari data latih dan simpan nilainya pada variabel bernama **prior_tugas**. Anda dapat menggunakan fungsi **hitung_prior** yang telah Anda buat."
      ]
    },
    {
      "cell_type": "code",
      "execution_count": null,
      "metadata": {
        "colab": {
          "base_uri": "https://localhost:8080/"
        },
        "id": "LV3cv5pvDqPT",
        "outputId": "ddf625c7-256b-4df3-f2a4-a4c6212ef93a"
      },
      "outputs": [
        {
          "name": "stdout",
          "output_type": "stream",
          "text": [
            "Counter({'unacc': 0.7129859387923904, 'acc': 0.2142266335814723, 'good': 0.04218362282878412, 'vgood': 0.030603804797353185})\n"
          ]
        }
      ],
      "source": [
        "from collections import Counter\n",
        "def hitung_prior(list_kelas):\n",
        "  n_data = len(list_kelas)\n",
        "  prior = Counter(list_kelas)\n",
        "  for key in prior.keys():\n",
        "    prior[key] = prior[key]/n_data\n",
        "  return prior\n",
        "\n",
        "prior_tugas = hitung_prior(tugas_latih['class']);\n",
        "print(prior_tugas)"
      ]
    },
    {
      "cell_type": "markdown",
      "metadata": {
        "id": "A35772NVfJT4"
      },
      "source": [
        "Buatlah fungsi bernama **hitung_likelihood_multinomial** dengan parameter input berupa data latih. Fungsi ini bertujuan menghitung nilai likelihood pada masing-masing kolom pada data latih. Operasi-operasi yang perlu dilakukan pada fungsi ini adalah:\n",
        "\n",
        "\n",
        "1.   Mendapatkan daftar kolom data\n",
        "2.   Mendapatkan nama kolom kelas pada data (kolom terakhir pada data)\n",
        "3.   Mendapatkan nama-nama kelas pada data (unik).\n",
        "4.   Menghitung likelihood pada masing-masing kolom, nilai kolom, dan nilai kelas\n",
        "\n",
        "Sebagai saran, Anda dapat menggunakan struktur data dictionary untuk menyimpan nilai likelihood. Key pada dictionary tersebut adalah tuple(nama kolom, nilai pada kolom, nama kelas). Petunjuk penggunaan dictionary dengan key berupa tuple dapat dibaca [di sini](https://stackoverflow.com/questions/1938614/in-what-case-would-i-use-a-tuple-as-a-dictionary-key).\n",
        "\n"
      ]
    },
    {
      "cell_type": "code",
      "execution_count": null,
      "metadata": {
        "id": "0rwzCh38EA-H"
      },
      "outputs": [],
      "source": [
        "import numpy as np\n",
        "def hitung_likelihood_multinomial(data_latih):\n",
        "  #tulis kode Anda disini\n",
        "  list_columns = data_latih.columns[:-1]\n",
        "  class_columns_name = data_latih.columns[-1]\n",
        "  list_class = set(data_latih[class_columns_name])\n",
        "  likelihood={}\n",
        "  for column in list_columns:\n",
        "    for e in list_class:\n",
        "      for val in np.unique(data_latih[column]):\n",
        "        length_c = data_latih.loc[np.logical_and((data_latih[class_columns_name]==e), (data_latih[column]==val))]\n",
        "        pembilang = length_c[column].count()\n",
        "        penyebut = data_latih.loc[data_latih[class_columns_name]==e][column].count()\n",
        "        likelihood[(column, val, e)] = pembilang/penyebut\n",
        "  return likelihood"
      ]
    },
    {
      "cell_type": "markdown",
      "metadata": {
        "id": "8-Qsp6QqjlUL"
      },
      "source": [
        "Ujilah fungsi **hitung_likelihood_multinomial** dengan parameter input berupa variabel **tugas_latih**"
      ]
    },
    {
      "cell_type": "code",
      "execution_count": null,
      "metadata": {
        "colab": {
          "base_uri": "https://localhost:8080/"
        },
        "id": "sdywZ5Ej6nM6",
        "outputId": "040fd825-9b8c-4847-9d85-cdda376879ed"
      },
      "outputs": [
        {
          "name": "stdout",
          "output_type": "stream",
          "text": [
            "{('buying', 'high', 'unacc'): 0.24477958236658934, ('buying', 'low', 'unacc'): 0.21577726218097448, ('buying', 'med', 'unacc'): 0.2296983758700696, ('buying', 'vhigh', 'unacc'): 0.30974477958236657, ('buying', 'high', 'vgood'): 0.0, ('buying', 'low', 'vgood'): 0.6216216216216216, ('buying', 'med', 'vgood'): 0.3783783783783784, ('buying', 'vhigh', 'vgood'): 0.0, ('buying', 'high', 'acc'): 0.2625482625482625, ('buying', 'low', 'acc'): 0.2277992277992278, ('buying', 'med', 'acc'): 0.3359073359073359, ('buying', 'vhigh', 'acc'): 0.17374517374517376, ('buying', 'high', 'good'): 0.0, ('buying', 'low', 'good'): 0.6470588235294118, ('buying', 'med', 'good'): 0.35294117647058826, ('buying', 'vhigh', 'good'): 0.0, ('maint', 'high', 'unacc'): 0.26218097447795824, ('maint', 'low', 'unacc'): 0.2308584686774942, ('maint', 'med', 'unacc'): 0.22621809744779584, ('maint', 'vhigh', 'unacc'): 0.28074245939675174, ('maint', 'high', 'vgood'): 0.21621621621621623, ('maint', 'low', 'vgood'): 0.40540540540540543, ('maint', 'med', 'vgood'): 0.3783783783783784, ('maint', 'vhigh', 'vgood'): 0.0, ('maint', 'high', 'acc'): 0.2702702702702703, ('maint', 'low', 'acc'): 0.21235521235521235, ('maint', 'med', 'acc'): 0.3204633204633205, ('maint', 'vhigh', 'acc'): 0.1969111969111969, ('maint', 'high', 'good'): 0.0, ('maint', 'low', 'good'): 0.6666666666666666, ('maint', 'med', 'good'): 0.3333333333333333, ('maint', 'vhigh', 'good'): 0.0, ('doors', '2', 'unacc'): 0.27842227378190254, ('doors', '3', 'unacc'): 0.2505800464037123, ('doors', '4', 'unacc'): 0.24013921113689096, ('doors', '5more', 'unacc'): 0.2308584686774942, ('doors', '2', 'vgood'): 0.16216216216216217, ('doors', '3', 'vgood'): 0.21621621621621623, ('doors', '4', 'vgood'): 0.2972972972972973, ('doors', '5more', 'vgood'): 0.32432432432432434, ('doors', '2', 'acc'): 0.20463320463320464, ('doors', '3', 'acc'): 0.25868725868725867, ('doors', '4', 'acc'): 0.2702702702702703, ('doors', '5more', 'acc'): 0.26640926640926643, ('doors', '2', 'good'): 0.19607843137254902, ('doors', '3', 'good'): 0.23529411764705882, ('doors', '4', 'good'): 0.27450980392156865, ('doors', '5more', 'good'): 0.29411764705882354, ('persons', '2', 'unacc'): 0.4814385150812065, ('persons', '4', 'unacc'): 0.2482598607888631, ('persons', 'more', 'unacc'): 0.2703016241299304, ('persons', '2', 'vgood'): 0.0, ('persons', '4', 'vgood'): 0.4864864864864865, ('persons', 'more', 'vgood'): 0.5135135135135135, ('persons', '2', 'acc'): 0.0, ('persons', '4', 'acc'): 0.5328185328185329, ('persons', 'more', 'acc'): 0.4671814671814672, ('persons', '2', 'good'): 0.0, ('persons', '4', 'good'): 0.5686274509803921, ('persons', 'more', 'good'): 0.43137254901960786, ('lug_boot', 'big', 'unacc'): 0.3039443155452436, ('lug_boot', 'med', 'unacc'): 0.31322505800464034, ('lug_boot', 'small', 'unacc'): 0.382830626450116, ('lug_boot', 'big', 'vgood'): 0.6756756756756757, ('lug_boot', 'med', 'vgood'): 0.32432432432432434, ('lug_boot', 'small', 'vgood'): 0.0, ('lug_boot', 'big', 'acc'): 0.37065637065637064, ('lug_boot', 'med', 'acc'): 0.3590733590733591, ('lug_boot', 'small', 'acc'): 0.2702702702702703, ('lug_boot', 'big', 'good'): 0.37254901960784315, ('lug_boot', 'med', 'good'): 0.37254901960784315, ('lug_boot', 'small', 'good'): 0.2549019607843137, ('safety', 'high', 'unacc'): 0.23317865429234338, ('safety', 'low', 'unacc'): 0.46751740139211134, ('safety', 'med', 'unacc'): 0.29930394431554525, ('safety', 'high', 'vgood'): 1.0, ('safety', 'low', 'vgood'): 0.0, ('safety', 'med', 'vgood'): 0.0, ('safety', 'high', 'acc'): 0.49034749034749037, ('safety', 'low', 'acc'): 0.0, ('safety', 'med', 'acc'): 0.5096525096525096, ('safety', 'high', 'good'): 0.37254901960784315, ('safety', 'low', 'good'): 0.0, ('safety', 'med', 'good'): 0.6274509803921569}\n"
          ]
        }
      ],
      "source": [
        "likelihood = hitung_likelihood_multinomial(tugas_latih)\n",
        "print(likelihood)"
      ]
    },
    {
      "cell_type": "markdown",
      "metadata": {
        "id": "YaVwZpzzjvB9"
      },
      "source": [
        "Buatlah fungsi bernama **training_naive_bayes_multinomial** dengan input berupa data latih. Fungsi ini bertujuan membentuk model yang berisi:\n",
        "\n",
        "\n",
        "1.   Nilai prior semua kelas\n",
        "2.   Nilai likelihood semua kolom, nilai kolom, dan kelas\n",
        "3.   Daftar kelas pada data latih (unik)\n",
        "4.   Daftar nama kolom pada data latih\n",
        "\n",
        "Return value dari fungsi ini adalah **model**\n",
        "\n"
      ]
    },
    {
      "cell_type": "code",
      "execution_count": null,
      "metadata": {
        "id": "nh03SXjX6t1E"
      },
      "outputs": [],
      "source": [
        "def training_naive_bayes_multinomial(data_latih):\n",
        "  #tulis kode Anda disini\n",
        "  class_columns_name = data_latih.columns[-1]\n",
        "  prior_tugas = hitung_prior(data_latih[class_columns_name])\n",
        "  likelihood = hitung_likelihood_multinomial(data_latih)\n",
        "  list_class = set(data_latih[class_columns_name])\n",
        "  list_columns = data_latih.columns[:-1]\n",
        "  model = {}\n",
        "  model['prior'] = prior_tugas\n",
        "  model['likelihood'] = likelihood\n",
        "  model['list_class'] = list_class\n",
        "  model['list_columns'] = list_columns\n",
        "  return model"
      ]
    },
    {
      "cell_type": "markdown",
      "metadata": {
        "id": "2_lcX8vclhWd"
      },
      "source": [
        "Jalankan fungsi **training_naive_bayes_multinomial** dan simpan hasilnya dalam variabel **model_tugas**"
      ]
    },
    {
      "cell_type": "code",
      "execution_count": null,
      "metadata": {
        "id": "pegse0eL7sRG"
      },
      "outputs": [],
      "source": [
        "model_tugas = training_naive_bayes_multinomial(tugas_latih)"
      ]
    },
    {
      "cell_type": "markdown",
      "metadata": {
        "id": "ZzgoGxFUlxHX"
      },
      "source": [
        "Buatlah fungsi **testing_naive_bayes_multinomial** untuk mendapatkan kelas dari sebuah data uji. Langkah yang dilakukan hampir sama dengan Gaussian, yaitu mengalikan likelihood semua kolom dengan posterior."
      ]
    },
    {
      "cell_type": "code",
      "execution_count": null,
      "metadata": {
        "id": "04RhlW2U8k1A"
      },
      "outputs": [],
      "source": [
        "def testing_naive_bayes_multinomial(model,data_uji):\n",
        "  #tulis kode Anda disini\n",
        "  prior = model['prior']\n",
        "  likelihood = model['likelihood']\n",
        "  list_class = model['list_class']\n",
        "  list_columns = model['list_columns']\n",
        "  posterior = dict.fromkeys(list_class, 1)\n",
        "  for e in list_class:\n",
        "    for column in list_columns:\n",
        "      posterior[e] = posterior[e] * likelihood[column,data_uji[column],e]\n",
        "  kelas_uji = max(posterior, key=posterior.get)\n",
        "  return kelas_uji"
      ]
    },
    {
      "cell_type": "markdown",
      "metadata": {
        "id": "c9MTFBRdmYCZ"
      },
      "source": [
        "Lakukan pengujian menggunakan sebuah data uji"
      ]
    },
    {
      "cell_type": "code",
      "execution_count": null,
      "metadata": {
        "colab": {
          "base_uri": "https://localhost:8080/"
        },
        "id": "o1EE-Rw39T68",
        "outputId": "d8536849-ca92-44b0-df29-ff72363abb2d"
      },
      "outputs": [
        {
          "name": "stdout",
          "output_type": "stream",
          "text": [
            "unacc\n",
            "unacc\n"
          ]
        }
      ],
      "source": [
        "idx = 10\n",
        "uji = tugas_uji.iloc[idx]\n",
        "kelas_uji = testing_naive_bayes_multinomial(model_tugas,uji)\n",
        "print(kelas_uji)\n",
        "print(tugas_label_uji.iloc[idx])"
      ]
    },
    {
      "cell_type": "markdown",
      "metadata": {
        "id": "3rGLrkbcmd10"
      },
      "source": [
        "Lakukan pengujian terhadap semua data uji."
      ]
    },
    {
      "cell_type": "code",
      "execution_count": null,
      "metadata": {
        "colab": {
          "base_uri": "https://localhost:8080/"
        },
        "id": "F1FkA8yC9bGy",
        "outputId": "8a46a847-2dcc-4d44-9c16-b8a6393b88c4"
      },
      "outputs": [
        {
          "name": "stdout",
          "output_type": "stream",
          "text": [
            "Total prediksi benar:  431\n"
          ]
        }
      ],
      "source": [
        "prediksi_total =[]\n",
        "for indeks in range(tugas_uji.shape[0]):\n",
        "  prediksi_total.append(testing_naive_bayes_multinomial(model_tugas,tugas_uji.iloc[indeks]))\n",
        "print(\"Total prediksi benar: \",sum(prediksi_total==tugas_label_uji))"
      ]
    },
    {
      "cell_type": "code",
      "execution_count": null,
      "metadata": {
        "colab": {
          "base_uri": "https://localhost:8080/"
        },
        "id": "ZRgDmuUX_X_o",
        "outputId": "a4cf94ca-9ef1-4205-ebdd-89a84d620c14"
      },
      "outputs": [
        {
          "data": {
            "text/plain": [
              "519"
            ]
          },
          "execution_count": 374,
          "metadata": {},
          "output_type": "execute_result"
        }
      ],
      "source": [
        "len(tugas_label_uji)"
      ]
    },
    {
      "cell_type": "code",
      "execution_count": null,
      "metadata": {
        "colab": {
          "base_uri": "https://localhost:8080/"
        },
        "id": "qzcjfgqO_exR",
        "outputId": "d57148b3-08c1-409d-e523-2a5167efbca5"
      },
      "outputs": [
        {
          "name": "stdout",
          "output_type": "stream",
          "text": [
            "Presentase Benar 0.8304431599229287\n"
          ]
        }
      ],
      "source": [
        "print('Presentase Benar',sum(prediksi_total==tugas_label_uji)/len(tugas_label_uji))"
      ]
    }
  ],
  "metadata": {
    "colab": {
      "collapsed_sections": [],
      "name": "Copy of Copy of Praktikum 4 - Soal",
      "provenance": []
    },
    "kernelspec": {
      "display_name": "Python 3",
      "name": "python3"
    },
    "language_info": {
      "codemirror_mode": {
        "name": "ipython",
        "version": 3
      },
      "file_extension": ".py",
      "mimetype": "text/x-python",
      "name": "python",
      "nbconvert_exporter": "python",
      "pygments_lexer": "ipython3",
      "version": "3.10.4"
    }
  },
  "nbformat": 4,
  "nbformat_minor": 0
}
